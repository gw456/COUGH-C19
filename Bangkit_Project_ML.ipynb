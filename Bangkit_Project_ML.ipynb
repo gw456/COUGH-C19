{
  "nbformat": 4,
  "nbformat_minor": 0,
  "metadata": {
    "colab": {
      "name": "Bangkit_Project.ipynb",
      "provenance": [],
      "collapsed_sections": [],
      "include_colab_link": true
    },
    "kernelspec": {
      "name": "python3",
      "display_name": "Python 3"
    },
    "language_info": {
      "name": "python"
    },
    "accelerator": "TPU"
  },
  "cells": [
    {
      "cell_type": "markdown",
      "metadata": {
        "id": "view-in-github",
        "colab_type": "text"
      },
      "source": [
        "<a href=\"https://colab.research.google.com/github/gw456/COUGH-C19/blob/main/Bangkit_Project_ML.ipynb\" target=\"_parent\"><img src=\"https://colab.research.google.com/assets/colab-badge.svg\" alt=\"Open In Colab\"/></a>"
      ]
    },
    {
      "cell_type": "markdown",
      "metadata": {
        "id": "4wjjCARt4CoY"
      },
      "source": [
        "DOWNLOAD DATASET DI GITHUB"
      ]
    },
    {
      "cell_type": "code",
      "metadata": {
        "id": "FWnFRVPBPZjW"
      },
      "source": [
        "!git clone https://github.com/iiscleap/Coswara-Data.git"
      ],
      "execution_count": null,
      "outputs": []
    },
    {
      "cell_type": "markdown",
      "metadata": {
        "id": "ZY2ei-lxUqG4"
      },
      "source": [
        "EKSTRAK DATA WAV DAB JSON DI FOLDER COSWARA"
      ]
    },
    {
      "cell_type": "code",
      "metadata": {
        "id": "bWRARDvq30Kk"
      },
      "source": [
        "import os\n",
        "import sys\n",
        "import subprocess\n",
        "import numpy as np\n",
        "import glob\n",
        "import json\n",
        "import pandas as pd\n",
        "import json\n",
        "import csv"
      ],
      "execution_count": null,
      "outputs": []
    },
    {
      "cell_type": "code",
      "metadata": {
        "id": "PB1aukh4hjPI",
        "colab": {
          "base_uri": "https://localhost:8080/",
          "height": 231
        },
        "outputId": "51bb0ded-10f0-4da6-f1bd-213e43b94a2d"
      },
      "source": [
        "'''\n",
        "This script creates a folder \"Extracted_data\" inside which it extracts all the wav files in the directories date-wise\n",
        "'''\n",
        "\n",
        "coswara_data_dir = '/content/Coswara-Data' # Local Path of iiscleap/Coswara-Data Repo\n",
        "extracted_data_dir = os.path.join(coswara_data_dir, 'Extracted_data')  \n",
        "\n",
        "if not os.path.exists(coswara_data_dir):\n",
        "    raise(\"Check the Coswara dataset directory!\")\n",
        "\n",
        "if not os.path.exists(extracted_data_dir):\n",
        "    os.makedirs(extracted_data_dir) # Creates the Extracted_data folder if it doesn't exist\n",
        "\n",
        "dirs_extracted = set(map(os.path.basename,glob.glob('{}/202*'.format(extracted_data_dir))))\n",
        "dirs_all = set(map(os.path.basename,glob.glob('{}/202*'.format(coswara_data_dir))))\n",
        "\n",
        "dirs_to_extract = list(set(dirs_all) - dirs_extracted)\n",
        "\n",
        "print(dirs_to_extract)\n",
        "\n",
        "for d in dirs_to_extract:\n",
        "    p = subprocess.Popen('cat {}/{}/*.tar.gz.* |tar -xvz -C {}/'.format(coswara_data_dir, d, extracted_data_dir), shell=True)\n",
        "    p.wait()\n",
        "\n",
        "\n",
        "print(\"Extraction process complete!\")"
      ],
      "execution_count": null,
      "outputs": [
        {
          "output_type": "error",
          "ename": "TypeError",
          "evalue": "ignored",
          "traceback": [
            "\u001b[0;31m---------------------------------------------------------------------------\u001b[0m",
            "\u001b[0;31mTypeError\u001b[0m                                 Traceback (most recent call last)",
            "\u001b[0;32m<ipython-input-3-0a9fb7ede390>\u001b[0m in \u001b[0;36m<module>\u001b[0;34m()\u001b[0m\n\u001b[1;32m      7\u001b[0m \u001b[0;34m\u001b[0m\u001b[0m\n\u001b[1;32m      8\u001b[0m \u001b[0;32mif\u001b[0m \u001b[0;32mnot\u001b[0m \u001b[0mos\u001b[0m\u001b[0;34m.\u001b[0m\u001b[0mpath\u001b[0m\u001b[0;34m.\u001b[0m\u001b[0mexists\u001b[0m\u001b[0;34m(\u001b[0m\u001b[0mcoswara_data_dir\u001b[0m\u001b[0;34m)\u001b[0m\u001b[0;34m:\u001b[0m\u001b[0;34m\u001b[0m\u001b[0;34m\u001b[0m\u001b[0m\n\u001b[0;32m----> 9\u001b[0;31m     \u001b[0;32mraise\u001b[0m\u001b[0;34m(\u001b[0m\u001b[0;34m\"Check the Coswara dataset directory!\"\u001b[0m\u001b[0;34m)\u001b[0m\u001b[0;34m\u001b[0m\u001b[0;34m\u001b[0m\u001b[0m\n\u001b[0m\u001b[1;32m     10\u001b[0m \u001b[0;34m\u001b[0m\u001b[0m\n\u001b[1;32m     11\u001b[0m \u001b[0;32mif\u001b[0m \u001b[0;32mnot\u001b[0m \u001b[0mos\u001b[0m\u001b[0;34m.\u001b[0m\u001b[0mpath\u001b[0m\u001b[0;34m.\u001b[0m\u001b[0mexists\u001b[0m\u001b[0;34m(\u001b[0m\u001b[0mextracted_data_dir\u001b[0m\u001b[0;34m)\u001b[0m\u001b[0;34m:\u001b[0m\u001b[0;34m\u001b[0m\u001b[0;34m\u001b[0m\u001b[0m\n",
            "\u001b[0;31mTypeError\u001b[0m: exceptions must derive from BaseException"
          ]
        }
      ]
    },
    {
      "cell_type": "markdown",
      "metadata": {
        "id": "9YpWu7fivpca"
      },
      "source": [
        "MEMILIH FILE COUGH-HEAVY.WAV DENGAN KOMORBID BATUK"
      ]
    },
    {
      "cell_type": "markdown",
      "metadata": {
        "id": "Bq1TMCQgdF4_"
      },
      "source": [
        "Menyiapkan directory yang akan dipindah"
      ]
    },
    {
      "cell_type": "code",
      "metadata": {
        "id": "ix8j5ANzryi5",
        "colab": {
          "base_uri": "https://localhost:8080/",
          "height": 316
        },
        "outputId": "5e2eb74a-d1b7-4c60-c1ac-e129f6cdf980"
      },
      "source": [
        "def menyiapkan_directory_pindahan():\n",
        "  coughHeavy_wavfile_dir = os.path.join('/content', 'Cough-Heavy_wavfile')\n",
        "\n",
        "  if not os.path.exists(extracted_data_dir):\n",
        "      raise(\"Check the Coswara dataset directory!\")\n",
        "\n",
        "  if not os.path.exists(coughHeavy_wavfile_dir):\n",
        "      os.makedirs(coughHeavy_wavfile_dir)\n",
        "\n",
        "  dirs_metadata_json = list(map(os.path.abspath, glob.glob('{}/202*/**/metadata.json'.format(extracted_data_dir), \n",
        "                                                           recursive = True)))\n",
        "  dirs_metadata_json = sorted(dirs_metadata_json)\n",
        "\n",
        "  dirs_cough_heavy_wav = list(map(os.path.abspath, glob.glob('{}/202*/**/cough-heavy.wav'.format(extracted_data_dir), \n",
        "                                                           recursive = True)))\n",
        "  dirs_cough_heavy_wav = sorted(dirs_cough_heavy_wav)\n",
        "\n",
        "  print(len(dirs_metadata_json))\n",
        "  print(len(dirs_cough_heavy_wav))\n",
        "\n",
        "  for i in range(600,607):\n",
        "    print(dirs_metadata_json[i])\n",
        "    print(dirs_cough_heavy_wav[i])\n",
        "\n",
        "  return dirs_metadata_json, dirs_cough_heavy_wav, coughHeavy_wavfile_dir\n",
        "\n",
        "dirs_metadata_json, dirs_cough_heavy_wav, coughHeavy_wavfile_dir =menyiapkan_directory_pindahan()"
      ],
      "execution_count": null,
      "outputs": [
        {
          "output_type": "error",
          "ename": "TypeError",
          "evalue": "ignored",
          "traceback": [
            "\u001b[0;31m---------------------------------------------------------------------------\u001b[0m",
            "\u001b[0;31mTypeError\u001b[0m                                 Traceback (most recent call last)",
            "\u001b[0;32m<ipython-input-4-9e5d52c39e1a>\u001b[0m in \u001b[0;36m<module>\u001b[0;34m()\u001b[0m\n\u001b[1;32m     25\u001b[0m   \u001b[0;32mreturn\u001b[0m \u001b[0mdirs_metadata_json\u001b[0m\u001b[0;34m,\u001b[0m \u001b[0mdirs_cough_heavy_wav\u001b[0m\u001b[0;34m,\u001b[0m \u001b[0mcoughHeavy_wavfile_dir\u001b[0m\u001b[0;34m\u001b[0m\u001b[0;34m\u001b[0m\u001b[0m\n\u001b[1;32m     26\u001b[0m \u001b[0;34m\u001b[0m\u001b[0m\n\u001b[0;32m---> 27\u001b[0;31m \u001b[0mdirs_metadata_json\u001b[0m\u001b[0;34m,\u001b[0m \u001b[0mdirs_cough_heavy_wav\u001b[0m\u001b[0;34m,\u001b[0m \u001b[0mcoughHeavy_wavfile_dir\u001b[0m \u001b[0;34m=\u001b[0m\u001b[0mmenyiapkan_directory_pindahan\u001b[0m\u001b[0;34m(\u001b[0m\u001b[0;34m)\u001b[0m\u001b[0;34m\u001b[0m\u001b[0;34m\u001b[0m\u001b[0m\n\u001b[0m",
            "\u001b[0;32m<ipython-input-4-9e5d52c39e1a>\u001b[0m in \u001b[0;36mmenyiapkan_directory_pindahan\u001b[0;34m()\u001b[0m\n\u001b[1;32m      3\u001b[0m \u001b[0;34m\u001b[0m\u001b[0m\n\u001b[1;32m      4\u001b[0m   \u001b[0;32mif\u001b[0m \u001b[0;32mnot\u001b[0m \u001b[0mos\u001b[0m\u001b[0;34m.\u001b[0m\u001b[0mpath\u001b[0m\u001b[0;34m.\u001b[0m\u001b[0mexists\u001b[0m\u001b[0;34m(\u001b[0m\u001b[0mextracted_data_dir\u001b[0m\u001b[0;34m)\u001b[0m\u001b[0;34m:\u001b[0m\u001b[0;34m\u001b[0m\u001b[0;34m\u001b[0m\u001b[0m\n\u001b[0;32m----> 5\u001b[0;31m       \u001b[0;32mraise\u001b[0m\u001b[0;34m(\u001b[0m\u001b[0;34m\"Check the Coswara dataset directory!\"\u001b[0m\u001b[0;34m)\u001b[0m\u001b[0;34m\u001b[0m\u001b[0;34m\u001b[0m\u001b[0m\n\u001b[0m\u001b[1;32m      6\u001b[0m \u001b[0;34m\u001b[0m\u001b[0m\n\u001b[1;32m      7\u001b[0m   \u001b[0;32mif\u001b[0m \u001b[0;32mnot\u001b[0m \u001b[0mos\u001b[0m\u001b[0;34m.\u001b[0m\u001b[0mpath\u001b[0m\u001b[0;34m.\u001b[0m\u001b[0mexists\u001b[0m\u001b[0;34m(\u001b[0m\u001b[0mcoughHeavy_wavfile_dir\u001b[0m\u001b[0;34m)\u001b[0m\u001b[0;34m:\u001b[0m\u001b[0;34m\u001b[0m\u001b[0;34m\u001b[0m\u001b[0m\n",
            "\u001b[0;31mTypeError\u001b[0m: exceptions must derive from BaseException"
          ]
        }
      ]
    },
    {
      "cell_type": "code",
      "metadata": {
        "id": "HdiPBA3STlVK",
        "colab": {
          "base_uri": "https://localhost:8080/",
          "height": 367
        },
        "outputId": "d25d29a5-c6dd-409c-aa8f-79bf14876429"
      },
      "source": [
        "#Hapus metadata dalam sub folder, sehingga jumlah data sama\n",
        "!rm /content/Coswara-Data/Extracted_data/20200418/0VpjgRGE5kR8uTEhksBgvFR3xlA2/0VpjgRGE5kR8uTEhksBgvFR3xlA2/metadata.json\n",
        "!rm /content/Coswara-Data/Extracted_data/20200418/19VBCVaFPcWROz6wWui9G9IU9K12/19VBCVaFPcWROz6wWui9G9IU9K12/metadata.json\n",
        "!rm /content/Coswara-Data/Extracted_data/20200418/22oBvWaWwBhbdNfWoshbse1qZ4q2/22oBvWaWwBhbdNfWoshbse1qZ4q2/metadata.json\n",
        "\n",
        "dirs_metadata_json, dirs_cough_heavy_wav, coughHeavy_wavfile_dir =menyiapkan_directory_pindahan()"
      ],
      "execution_count": null,
      "outputs": [
        {
          "output_type": "stream",
          "text": [
            "rm: cannot remove '/content/Coswara-Data/Extracted_data/20200418/0VpjgRGE5kR8uTEhksBgvFR3xlA2/0VpjgRGE5kR8uTEhksBgvFR3xlA2/metadata.json': No such file or directory\n",
            "rm: cannot remove '/content/Coswara-Data/Extracted_data/20200418/19VBCVaFPcWROz6wWui9G9IU9K12/19VBCVaFPcWROz6wWui9G9IU9K12/metadata.json': No such file or directory\n",
            "rm: cannot remove '/content/Coswara-Data/Extracted_data/20200418/22oBvWaWwBhbdNfWoshbse1qZ4q2/22oBvWaWwBhbdNfWoshbse1qZ4q2/metadata.json': No such file or directory\n"
          ],
          "name": "stdout"
        },
        {
          "output_type": "error",
          "ename": "TypeError",
          "evalue": "ignored",
          "traceback": [
            "\u001b[0;31m---------------------------------------------------------------------------\u001b[0m",
            "\u001b[0;31mTypeError\u001b[0m                                 Traceback (most recent call last)",
            "\u001b[0;32m<ipython-input-5-e94b8b42aca8>\u001b[0m in \u001b[0;36m<module>\u001b[0;34m()\u001b[0m\n\u001b[1;32m      4\u001b[0m \u001b[0mget_ipython\u001b[0m\u001b[0;34m(\u001b[0m\u001b[0;34m)\u001b[0m\u001b[0;34m.\u001b[0m\u001b[0msystem\u001b[0m\u001b[0;34m(\u001b[0m\u001b[0;34m'rm /content/Coswara-Data/Extracted_data/20200418/22oBvWaWwBhbdNfWoshbse1qZ4q2/22oBvWaWwBhbdNfWoshbse1qZ4q2/metadata.json'\u001b[0m\u001b[0;34m)\u001b[0m\u001b[0;34m\u001b[0m\u001b[0;34m\u001b[0m\u001b[0m\n\u001b[1;32m      5\u001b[0m \u001b[0;34m\u001b[0m\u001b[0m\n\u001b[0;32m----> 6\u001b[0;31m \u001b[0mdirs_metadata_json\u001b[0m\u001b[0;34m,\u001b[0m \u001b[0mdirs_cough_heavy_wav\u001b[0m\u001b[0;34m,\u001b[0m \u001b[0mcoughHeavy_wavfile_dir\u001b[0m \u001b[0;34m=\u001b[0m\u001b[0mmenyiapkan_directory_pindahan\u001b[0m\u001b[0;34m(\u001b[0m\u001b[0;34m)\u001b[0m\u001b[0;34m\u001b[0m\u001b[0;34m\u001b[0m\u001b[0m\n\u001b[0m",
            "\u001b[0;32m<ipython-input-4-9e5d52c39e1a>\u001b[0m in \u001b[0;36mmenyiapkan_directory_pindahan\u001b[0;34m()\u001b[0m\n\u001b[1;32m      3\u001b[0m \u001b[0;34m\u001b[0m\u001b[0m\n\u001b[1;32m      4\u001b[0m   \u001b[0;32mif\u001b[0m \u001b[0;32mnot\u001b[0m \u001b[0mos\u001b[0m\u001b[0;34m.\u001b[0m\u001b[0mpath\u001b[0m\u001b[0;34m.\u001b[0m\u001b[0mexists\u001b[0m\u001b[0;34m(\u001b[0m\u001b[0mextracted_data_dir\u001b[0m\u001b[0;34m)\u001b[0m\u001b[0;34m:\u001b[0m\u001b[0;34m\u001b[0m\u001b[0;34m\u001b[0m\u001b[0m\n\u001b[0;32m----> 5\u001b[0;31m       \u001b[0;32mraise\u001b[0m\u001b[0;34m(\u001b[0m\u001b[0;34m\"Check the Coswara dataset directory!\"\u001b[0m\u001b[0;34m)\u001b[0m\u001b[0;34m\u001b[0m\u001b[0;34m\u001b[0m\u001b[0m\n\u001b[0m\u001b[1;32m      6\u001b[0m \u001b[0;34m\u001b[0m\u001b[0m\n\u001b[1;32m      7\u001b[0m   \u001b[0;32mif\u001b[0m \u001b[0;32mnot\u001b[0m \u001b[0mos\u001b[0m\u001b[0;34m.\u001b[0m\u001b[0mpath\u001b[0m\u001b[0;34m.\u001b[0m\u001b[0mexists\u001b[0m\u001b[0;34m(\u001b[0m\u001b[0mcoughHeavy_wavfile_dir\u001b[0m\u001b[0;34m)\u001b[0m\u001b[0;34m:\u001b[0m\u001b[0;34m\u001b[0m\u001b[0;34m\u001b[0m\u001b[0m\n",
            "\u001b[0;31mTypeError\u001b[0m: exceptions must derive from BaseException"
          ]
        }
      ]
    },
    {
      "cell_type": "markdown",
      "metadata": {
        "id": "yDFxP0VhdKLm"
      },
      "source": [
        "Memindah directory yang mengandung komorbid batuk"
      ]
    },
    {
      "cell_type": "code",
      "metadata": {
        "id": "wvcRuZRDxaF-",
        "colab": {
          "base_uri": "https://localhost:8080/",
          "height": 231
        },
        "outputId": "dde9c165-6493-48d6-e623-4fadf66d4071"
      },
      "source": [
        "with open('index_dan_label_data.csv', mode = 'w') as file:\n",
        "  data_writer = csv.writer(file, delimiter=',', quotechar='\"', quoting=csv.QUOTE_ALL)\n",
        "  data_writer.writerow(['Index', 'Label'])\n",
        "  for i in range(0, len(dirs_metadata_json)):\n",
        "    f = open(dirs_metadata_json[i])\n",
        "    dictionary = json.load(f)\n",
        "    if \"cough\" in dictionary:\n",
        "      if dictionary[\"covid_status\"] in ['positive_moderate', 'positive_mild', 'positive_asymp']:\n",
        "        data_writer.writerow([i, 1])\n",
        "      else:\n",
        "        data_writer.writerow([i, 0])\n",
        "      f.close()\n",
        "      p = subprocess.Popen('mv {} {}/{}.wav'.format(dirs_cough_heavy_wav[i], \n",
        "                                                  coughHeavy_wavfile_dir, i+1), \n",
        "                                                  shell=True)\n",
        "      p.wait()\n",
        "    else:\n",
        "      f.close()\n",
        "\n",
        "print(\"Data movement process complete!\")"
      ],
      "execution_count": null,
      "outputs": [
        {
          "output_type": "error",
          "ename": "NameError",
          "evalue": "ignored",
          "traceback": [
            "\u001b[0;31m---------------------------------------------------------------------------\u001b[0m",
            "\u001b[0;31mNameError\u001b[0m                                 Traceback (most recent call last)",
            "\u001b[0;32m<ipython-input-6-725cea9a6fbf>\u001b[0m in \u001b[0;36m<module>\u001b[0;34m()\u001b[0m\n\u001b[1;32m      2\u001b[0m   \u001b[0mdata_writer\u001b[0m \u001b[0;34m=\u001b[0m \u001b[0mcsv\u001b[0m\u001b[0;34m.\u001b[0m\u001b[0mwriter\u001b[0m\u001b[0;34m(\u001b[0m\u001b[0mfile\u001b[0m\u001b[0;34m,\u001b[0m \u001b[0mdelimiter\u001b[0m\u001b[0;34m=\u001b[0m\u001b[0;34m','\u001b[0m\u001b[0;34m,\u001b[0m \u001b[0mquotechar\u001b[0m\u001b[0;34m=\u001b[0m\u001b[0;34m'\"'\u001b[0m\u001b[0;34m,\u001b[0m \u001b[0mquoting\u001b[0m\u001b[0;34m=\u001b[0m\u001b[0mcsv\u001b[0m\u001b[0;34m.\u001b[0m\u001b[0mQUOTE_ALL\u001b[0m\u001b[0;34m)\u001b[0m\u001b[0;34m\u001b[0m\u001b[0;34m\u001b[0m\u001b[0m\n\u001b[1;32m      3\u001b[0m   \u001b[0mdata_writer\u001b[0m\u001b[0;34m.\u001b[0m\u001b[0mwriterow\u001b[0m\u001b[0;34m(\u001b[0m\u001b[0;34m[\u001b[0m\u001b[0;34m'Index'\u001b[0m\u001b[0;34m,\u001b[0m \u001b[0;34m'Label'\u001b[0m\u001b[0;34m]\u001b[0m\u001b[0;34m)\u001b[0m\u001b[0;34m\u001b[0m\u001b[0;34m\u001b[0m\u001b[0m\n\u001b[0;32m----> 4\u001b[0;31m   \u001b[0;32mfor\u001b[0m \u001b[0mi\u001b[0m \u001b[0;32min\u001b[0m \u001b[0mrange\u001b[0m\u001b[0;34m(\u001b[0m\u001b[0;36m0\u001b[0m\u001b[0;34m,\u001b[0m \u001b[0mlen\u001b[0m\u001b[0;34m(\u001b[0m\u001b[0mdirs_metadata_json\u001b[0m\u001b[0;34m)\u001b[0m\u001b[0;34m)\u001b[0m\u001b[0;34m:\u001b[0m\u001b[0;34m\u001b[0m\u001b[0;34m\u001b[0m\u001b[0m\n\u001b[0m\u001b[1;32m      5\u001b[0m     \u001b[0mf\u001b[0m \u001b[0;34m=\u001b[0m \u001b[0mopen\u001b[0m\u001b[0;34m(\u001b[0m\u001b[0mdirs_metadata_json\u001b[0m\u001b[0;34m[\u001b[0m\u001b[0mi\u001b[0m\u001b[0;34m]\u001b[0m\u001b[0;34m)\u001b[0m\u001b[0;34m\u001b[0m\u001b[0;34m\u001b[0m\u001b[0m\n\u001b[1;32m      6\u001b[0m     \u001b[0mdictionary\u001b[0m \u001b[0;34m=\u001b[0m \u001b[0mjson\u001b[0m\u001b[0;34m.\u001b[0m\u001b[0mload\u001b[0m\u001b[0;34m(\u001b[0m\u001b[0mf\u001b[0m\u001b[0;34m)\u001b[0m\u001b[0;34m\u001b[0m\u001b[0;34m\u001b[0m\u001b[0m\n",
            "\u001b[0;31mNameError\u001b[0m: name 'dirs_metadata_json' is not defined"
          ]
        }
      ]
    },
    {
      "cell_type": "markdown",
      "metadata": {
        "id": "0Oj0f2E-5wnt"
      },
      "source": [
        "PRE-PROCESSING\n",
        "\n",
        "pre-processing yang dilakukan adalah mengubah wav data menjadi time series data, lalu memotongnya menjadi beberapa periode batuk yang dikandung masing-masing data."
      ]
    },
    {
      "cell_type": "markdown",
      "metadata": {
        "id": "gUJd0XWgFeQ7"
      },
      "source": [
        "MENGKONVERSI KE TIME SERIES DATA"
      ]
    },
    {
      "cell_type": "markdown",
      "metadata": {
        "id": "VT0U3SOPH59X"
      },
      "source": [
        "Definisi Fungsi"
      ]
    },
    {
      "cell_type": "code",
      "metadata": {
        "id": "fWulsbI_4Afv"
      },
      "source": [
        "import soundfile as sf\n",
        "import matplotlib.pyplot as plt\n",
        "import numpy as np\n",
        "import pandas as pd\n",
        "import plotly.graph_objects as go"
      ],
      "execution_count": null,
      "outputs": []
    },
    {
      "cell_type": "code",
      "metadata": {
        "id": "qTi-Op35F8F9"
      },
      "source": [
        "def konversi_time_series(file_dir):\n",
        "  data, fs = sf.read(file_dir) \n",
        "  T = 1/fs\n",
        "  t = [k*T for k in range(len(data))]\n",
        "  return data, t\n",
        "\n",
        "def plot_data_time_series(data, t):\n",
        "  list_data = []\n",
        "  for row in data:\n",
        "    list_data.append(row) \n",
        "  plt.plot(t,list_data)\n",
        "  plt.show()\n",
        "\n",
        "def plot_data_csv(filename):\n",
        "  df = pd.read_csv(filename)\n",
        "  fig = go.Figure(go.Scatter(x = df['Waktu'], y = df['Data']))\n",
        "  fig.update_layout(title='Cough Time Series',\n",
        "                   plot_bgcolor='rgb(230, 230,230)',\n",
        "                   showlegend=True)\n",
        "  fig.show()"
      ],
      "execution_count": null,
      "outputs": []
    },
    {
      "cell_type": "markdown",
      "metadata": {
        "id": "gsAJXDErH9qa"
      },
      "source": [
        "Konversi wav file ke time series data"
      ]
    },
    {
      "cell_type": "code",
      "metadata": {
        "id": "IddN6aoyIDgK"
      },
      "source": [
        "panjang_baru = os.listdir('/content/Cough-Heavy_wavfile')\n",
        "print(len(panjang_baru))\n",
        "\n",
        "coughHeavy_csvfile_dir = os.path.join('/content', 'Cough-Heavy_csvfile')\n",
        "\n",
        "if not os.path.exists(coughHeavy_wavfile_dir):\n",
        "    raise(\"Check the your directory!\")\n",
        "\n",
        "if not os.path.exists(coughHeavy_csvfile_dir):\n",
        "    os.makedirs(coughHeavy_csvfile_dir)\n",
        "    with open('/content/index_dan_label_data.csv') as data_baca:\n",
        "      data_reader = csv.reader(data_baca, delimiter=',')\n",
        "      line_count = 0\n",
        "      for row in data_reader:\n",
        "        if line_count == 0:\n",
        "            line_count += 1\n",
        "        else:\n",
        "            index = str(int(row[0])+1)\n",
        "            data_raw = open('{}/data_raw_wav_{}.csv'.format(coughHeavy_csvfile_dir, index), mode = 'w')\n",
        "            data_writer = csv.writer(data_raw, delimiter=',', quotechar='\"', quoting=csv.QUOTE_ALL)\n",
        "            data_writer.writerow(['Waktu', 'Data'])\n",
        "            file_dikonversi = '{}/{}.wav'.format(coughHeavy_wavfile_dir, index)\n",
        "            bacaan, waktu = konversi_time_series(file_dikonversi)\n",
        "            for i in range(len(bacaan)):\n",
        "              data_writer.writerow([waktu[i], bacaan[i]])\n",
        "            data_raw.close()\n",
        "            line_count += 1\n",
        "        \n",
        "print(\"Time series data accuired!\")"
      ],
      "execution_count": null,
      "outputs": []
    },
    {
      "cell_type": "markdown",
      "metadata": {
        "id": "kWRunWPGITWH"
      },
      "source": [
        "Tes Keberhasilan konversi"
      ]
    },
    {
      "cell_type": "code",
      "metadata": {
        "id": "Fv_1ru0PE3pZ"
      },
      "source": [
        "panjang_wav = len(os.listdir('/content/Cough-Heavy_wavfile'))\n",
        "panjang_csv = len(os.listdir('/content/Cough-Heavy_csvfile'))\n",
        "print(panjang_wav == panjang_csv)\n",
        " \n",
        "file_dir = '/content/Cough-Heavy_wavfile/1106.wav'\n",
        "data_1, t_1 = konversi_time_series(file_dir)\n",
        "plot_data_time_series(data_1, t_1)\n",
        " \n",
        "raw_dir = '/content/Cough-Heavy_csvfile/data_raw_wav_1106.csv'\n",
        "plot_data_csv(raw_dir)"
      ],
      "execution_count": null,
      "outputs": []
    },
    {
      "cell_type": "markdown",
      "metadata": {
        "id": "_A17jCjoIo_m"
      },
      "source": [
        "EKSTRAKSI FITUR STATISTIK"
      ]
    },
    {
      "cell_type": "code",
      "metadata": {
        "id": "Qew33USbZ9Ft"
      },
      "source": [
        "from scipy.linalg import svd\n",
        "import statistics as stat\n",
        "import math"
      ],
      "execution_count": null,
      "outputs": []
    },
    {
      "cell_type": "code",
      "metadata": {
        "id": "CJ-jD_UO5r8B"
      },
      "source": [
        "def ekstraksi_fitur_stat(data):\n",
        "  #Reshape np.array into 2 dimension\n",
        "  number = len(data)\n",
        "  factors = []\n",
        " \n",
        "  for whole_number in range(1, number + 1):\n",
        "    if number % whole_number == 0:\n",
        "      factors.append(whole_number)\n",
        " \n",
        "  if len(factors)%2 == 0:\n",
        "    index = (len(factors)//2)-1\n",
        "    M = factors[index]\n",
        "    N = factors[index+1]\n",
        "  else:\n",
        "    index = (len(factors)-1)//2\n",
        "    M = factors[index]\n",
        "    N = M\n",
        "  data_reshape = data.reshape((N,M))\n",
        " \n",
        "  #Calculating Singular Value Decomposition and statistics parameter\n",
        "  U, S, V = svd(data_reshape)\n",
        "  column = np.shape(S)[0]\n",
        "  sum = 0\n",
        "  list_S = []\n",
        "  for row in range (column):\n",
        "    list_S.append(S[row])\n",
        "    sum = sum + S[row]\n",
        " \n",
        "  std = 0\n",
        "  average = sum/column\n",
        "  for i in range(column-1):\n",
        "    std = std + (list_S[i]-average)**2\n",
        "  std = math.sqrt(std/(column-1))\n",
        "  med = stat.median(list_S)\n",
        "  max = np.amax(list_S)\n",
        "  min = np.amin(list_S)\n",
        "  return average, std, med, max, min"
      ],
      "execution_count": null,
      "outputs": []
    },
    {
      "cell_type": "code",
      "metadata": {
        "id": "WsWhmT4GuZKJ"
      },
      "source": [
        "#Mencari file kosong\n",
        "file_kosong = []\n",
        "path = '/content/Cough-Heavy_csvfile'\n",
        "for files in os.listdir(path):\n",
        "  df = pd.read_csv('{}/{}'.format(path, files))\n",
        "  if df.empty == True:\n",
        "    file_kosong.append(files)\n",
        "print(file_kosong)"
      ],
      "execution_count": null,
      "outputs": []
    },
    {
      "cell_type": "code",
      "metadata": {
        "id": "gtHiwP-NaANL"
      },
      "source": [
        "path_cough_csv = '/content/Cough-Heavy_csvfile'\n",
        "\n",
        "with open(\"/content/Hasil_Fitur_Statistik.csv\", 'w') as file:\n",
        "  write = csv.writer(file, delimiter=',')\n",
        "  #write.writerow(['filename', 'Mean', 'std', 'median', 'max', 'min', 'label'])\n",
        "  for files in os.listdir(path_cough_csv):\n",
        "    print(files)\n",
        "    if files not in file_kosong:\n",
        "      #Mengekstraksi fitur statistik\n",
        "      data_list = list()\n",
        "      line_count = 1\n",
        "      for row in open('{}/{}'.format(path_cough_csv, files), 'r'):\n",
        "        if line_count == 1:\n",
        "          line_count += 1\n",
        "        else:\n",
        "          data_list.append(row[1])\n",
        "      data = np.array(data_list)\n",
        "      average, std, med, max, min = ekstraksi_fitur_stat(data)\n",
        "\n",
        "      #Menyiapkan labelnya\n",
        "      label = open(\"/content/index_dan_label_data.csv\", 'r')\n",
        "      label_data = csv.reader(label, delimiter = ',')\n",
        "      baris_count = 1\n",
        "      for baris in label_data:\n",
        "        if baris_count == 1:\n",
        "          baris_count += 1\n",
        "        else:\n",
        "          baris_count += 1\n",
        "          index = str(int(baris[0])+1)\n",
        "          file_bandingan = 'data_raw_wav_{}.csv'.format(index)\n",
        "          if files == file_bandingan:\n",
        "            labels = baris[1]\n",
        "            print(file_bandingan, labels)\n",
        "            break\n",
        "      label.close()\n",
        "\n",
        "      #Memasukkan data ke csv\n",
        "      write.writerow([files, average, std, med, max, min, labels])\n",
        "\n",
        "print(\"Ekstraksi feature selesai\")"
      ],
      "execution_count": null,
      "outputs": []
    },
    {
      "cell_type": "markdown",
      "metadata": {
        "id": "ypBCjuHk5f8s"
      },
      "source": [
        "MENYIAPKAN DATA LATIH DAN DATA UJI"
      ]
    },
    {
      "cell_type": "code",
      "metadata": {
        "id": "PZm4TXqC7lch"
      },
      "source": [
        "import tensorflow as tf\n",
        "from tensorflow.keras import layers\n",
        "from tensorflow.keras.layers.experimental import preprocessing\n",
        "from tensorflow.keras.optimizers import Adam\n",
        "from tensorflow.keras.losses import binary_crossentropy\n",
        "from sklearn.preprocessing import MinMaxScaler\n",
        "import sklearn"
      ],
      "execution_count": null,
      "outputs": []
    },
    {
      "cell_type": "code",
      "metadata": {
        "colab": {
          "base_uri": "https://localhost:8080/",
          "height": 221
        },
        "id": "H4ROI_bk-UFD",
        "outputId": "ca2ff80a-6ee2-490c-de0b-a9d23b38186e"
      },
      "source": [
        "data_stat = pd.read_csv('/content/Hasil_Fitur_Statistik.csv',\n",
        "                        names = ['Mean', 'std', 'median', 'max', 'min', 'label'])\n",
        "print(data_stat['Mean'].iloc[0])\n",
        "data_stat.head()"
      ],
      "execution_count": null,
      "outputs": [
        {
          "output_type": "stream",
          "text": [
            "3.6369964243766457\n"
          ],
          "name": "stdout"
        },
        {
          "output_type": "execute_result",
          "data": {
            "text/html": [
              "<div>\n",
              "<style scoped>\n",
              "    .dataframe tbody tr th:only-of-type {\n",
              "        vertical-align: middle;\n",
              "    }\n",
              "\n",
              "    .dataframe tbody tr th {\n",
              "        vertical-align: top;\n",
              "    }\n",
              "\n",
              "    .dataframe thead th {\n",
              "        text-align: right;\n",
              "    }\n",
              "</style>\n",
              "<table border=\"1\" class=\"dataframe\">\n",
              "  <thead>\n",
              "    <tr style=\"text-align: right;\">\n",
              "      <th></th>\n",
              "      <th>Mean</th>\n",
              "      <th>std</th>\n",
              "      <th>median</th>\n",
              "      <th>max</th>\n",
              "      <th>min</th>\n",
              "      <th>label</th>\n",
              "    </tr>\n",
              "  </thead>\n",
              "  <tbody>\n",
              "    <tr>\n",
              "      <th>data_raw_wav_1408.csv</th>\n",
              "      <td>3.636996</td>\n",
              "      <td>85.551140</td>\n",
              "      <td>2.049574e-13</td>\n",
              "      <td>2053.150266</td>\n",
              "      <td>1.223873e-13</td>\n",
              "      <td>1</td>\n",
              "    </tr>\n",
              "    <tr>\n",
              "      <th>data_raw_wav_1548.csv</th>\n",
              "      <td>3.047451</td>\n",
              "      <td>67.033242</td>\n",
              "      <td>1.513853e-13</td>\n",
              "      <td>1516.702319</td>\n",
              "      <td>4.352928e-14</td>\n",
              "      <td>0</td>\n",
              "    </tr>\n",
              "    <tr>\n",
              "      <th>data_raw_wav_1411.csv</th>\n",
              "      <td>2.027215</td>\n",
              "      <td>33.679648</td>\n",
              "      <td>5.856276e-14</td>\n",
              "      <td>587.102274</td>\n",
              "      <td>1.699418e-14</td>\n",
              "      <td>1</td>\n",
              "    </tr>\n",
              "    <tr>\n",
              "      <th>data_raw_wav_1409.csv</th>\n",
              "      <td>3.496532</td>\n",
              "      <td>77.005301</td>\n",
              "      <td>1.739075e-13</td>\n",
              "      <td>1742.339668</td>\n",
              "      <td>4.313570e-14</td>\n",
              "      <td>1</td>\n",
              "    </tr>\n",
              "    <tr>\n",
              "      <th>data_raw_wav_1448.csv</th>\n",
              "      <td>2.559819</td>\n",
              "      <td>46.903433</td>\n",
              "      <td>8.975397e-14</td>\n",
              "      <td>899.640161</td>\n",
              "      <td>1.564129e-14</td>\n",
              "      <td>0</td>\n",
              "    </tr>\n",
              "  </tbody>\n",
              "</table>\n",
              "</div>"
            ],
            "text/plain": [
              "                           Mean        std  ...           min  label\n",
              "data_raw_wav_1408.csv  3.636996  85.551140  ...  1.223873e-13      1\n",
              "data_raw_wav_1548.csv  3.047451  67.033242  ...  4.352928e-14      0\n",
              "data_raw_wav_1411.csv  2.027215  33.679648  ...  1.699418e-14      1\n",
              "data_raw_wav_1409.csv  3.496532  77.005301  ...  4.313570e-14      1\n",
              "data_raw_wav_1448.csv  2.559819  46.903433  ...  1.564129e-14      0\n",
              "\n",
              "[5 rows x 6 columns]"
            ]
          },
          "metadata": {
            "tags": []
          },
          "execution_count": 97
        }
      ]
    },
    {
      "cell_type": "code",
      "metadata": {
        "id": "o4wCtGaw_En9"
      },
      "source": [
        "data_stat_feature = data_stat.copy()\n",
        "data_stat_label = data_stat_feature.pop('label')\n",
        "\n",
        "x_train, x_test, y_train, y_test = train_test_split(data_stat_feature, data_stat_label, test_size=0.2)\n",
        "\n",
        "x_train = tf.convert_to_tensor(x_train)\n",
        "x_test = tf.convert_to_tensor(x_test)\n",
        "y_train = tf.convert_to_tensor(y_train)\n",
        "y_test = tf.convert_to_tensor(y_test)\n",
        "\n",
        "def scaleData(data):       \n",
        "    scaler = MinMaxScaler(feature_range=(0, 1))\n",
        "    return scaler.fit_transform(data)\n",
        "\n",
        "x_train = scaleData(x_train)\n",
        "x_test = scaleData(x_test)"
      ],
      "execution_count": null,
      "outputs": []
    },
    {
      "cell_type": "markdown",
      "metadata": {
        "id": "OmgQP86nwtUO"
      },
      "source": [
        "GENERATE MODEL"
      ]
    },
    {
      "cell_type": "code",
      "metadata": {
        "id": "gyhtbZcBTOg0"
      },
      "source": [
        "import pathlib"
      ],
      "execution_count": null,
      "outputs": []
    },
    {
      "cell_type": "code",
      "metadata": {
        "id": "89_bVA-XPBNv"
      },
      "source": [
        "class myCallback(tf.keras.callbacks.Callback):\n",
        "         def on_epoch_end(self, epoch, logs={}):# Your Code\n",
        "            if(logs.get('accuracy')>0.64):\n",
        "                print('\\nReached 64% accuracy so cancelling training!')\n",
        "                self.model.stop_training = True\n",
        " \n",
        "callbacks = myCallback()"
      ],
      "execution_count": null,
      "outputs": []
    },
    {
      "cell_type": "code",
      "metadata": {
        "colab": {
          "base_uri": "https://localhost:8080/"
        },
        "id": "LMc2ZsS8C6NU",
        "outputId": "43341d2d-2dca-4f1f-f820-cc2a3952b955"
      },
      "source": [
        "model_stat = tf.keras.models.Sequential([\n",
        "    tf.keras.layers.Dense(128, activation = 'relu', input_shape = [5]),\n",
        "    tf.keras.layers.Dense(128, activation = 'relu'),\n",
        "    tf.keras.layers.Dense(128, activation = 'relu'),\n",
        "    tf.keras.layers.Dense(128, activation = 'relu'),\n",
        "    tf.keras.layers.Dense(16, activation = 'relu'),\n",
        "    tf.keras.layers.Dense(1, activation = 'sigmoid')\n",
        "])\n",
        "model_stat.summary()\n",
        "\n",
        "model_stat.compile(loss = 'binary_crossentropy', optimizer = tf.keras.optimizers.Adam(0.002), metrics = ['accuracy'])\n",
        "history = model_stat.fit(x_train, y_train, epochs = 100, callbacks=[callbacks], validation_data=(x_test, y_test))"
      ],
      "execution_count": null,
      "outputs": [
        {
          "output_type": "stream",
          "text": [
            "Model: \"sequential_18\"\n",
            "_________________________________________________________________\n",
            "Layer (type)                 Output Shape              Param #   \n",
            "=================================================================\n",
            "dense_103 (Dense)            (None, 128)               768       \n",
            "_________________________________________________________________\n",
            "dense_104 (Dense)            (None, 128)               16512     \n",
            "_________________________________________________________________\n",
            "dense_105 (Dense)            (None, 128)               16512     \n",
            "_________________________________________________________________\n",
            "dense_106 (Dense)            (None, 128)               16512     \n",
            "_________________________________________________________________\n",
            "dense_107 (Dense)            (None, 16)                2064      \n",
            "_________________________________________________________________\n",
            "dense_108 (Dense)            (None, 1)                 17        \n",
            "=================================================================\n",
            "Total params: 52,385\n",
            "Trainable params: 52,385\n",
            "Non-trainable params: 0\n",
            "_________________________________________________________________\n",
            "Epoch 1/100\n",
            "4/4 [==============================] - 1s 58ms/step - loss: 0.6969 - accuracy: 0.4609 - val_loss: 0.7024 - val_accuracy: 0.4062\n",
            "Epoch 2/100\n",
            "4/4 [==============================] - 0s 10ms/step - loss: 0.6940 - accuracy: 0.5156 - val_loss: 0.6998 - val_accuracy: 0.4062\n",
            "Epoch 3/100\n",
            "4/4 [==============================] - 0s 10ms/step - loss: 0.6944 - accuracy: 0.5156 - val_loss: 0.7075 - val_accuracy: 0.4062\n",
            "Epoch 4/100\n",
            "4/4 [==============================] - 0s 11ms/step - loss: 0.6933 - accuracy: 0.5156 - val_loss: 0.7068 - val_accuracy: 0.4062\n",
            "Epoch 5/100\n",
            "4/4 [==============================] - 0s 10ms/step - loss: 0.6925 - accuracy: 0.5156 - val_loss: 0.7060 - val_accuracy: 0.4062\n",
            "Epoch 6/100\n",
            "4/4 [==============================] - 0s 8ms/step - loss: 0.6917 - accuracy: 0.5156 - val_loss: 0.7031 - val_accuracy: 0.4062\n",
            "Epoch 7/100\n",
            "4/4 [==============================] - 0s 8ms/step - loss: 0.6913 - accuracy: 0.5156 - val_loss: 0.7027 - val_accuracy: 0.4062\n",
            "Epoch 8/100\n",
            "4/4 [==============================] - 0s 8ms/step - loss: 0.6916 - accuracy: 0.5156 - val_loss: 0.7148 - val_accuracy: 0.4062\n",
            "Epoch 9/100\n",
            "4/4 [==============================] - 0s 9ms/step - loss: 0.6911 - accuracy: 0.5156 - val_loss: 0.7107 - val_accuracy: 0.4375\n",
            "Epoch 10/100\n",
            "4/4 [==============================] - 0s 9ms/step - loss: 0.6892 - accuracy: 0.5156 - val_loss: 0.7211 - val_accuracy: 0.4062\n",
            "Epoch 11/100\n",
            "4/4 [==============================] - 0s 9ms/step - loss: 0.6869 - accuracy: 0.5234 - val_loss: 0.7281 - val_accuracy: 0.4375\n",
            "Epoch 12/100\n",
            "4/4 [==============================] - 0s 9ms/step - loss: 0.6857 - accuracy: 0.5391 - val_loss: 0.7427 - val_accuracy: 0.4375\n",
            "Epoch 13/100\n",
            "4/4 [==============================] - 0s 8ms/step - loss: 0.6836 - accuracy: 0.5703 - val_loss: 0.7619 - val_accuracy: 0.4375\n",
            "Epoch 14/100\n",
            "4/4 [==============================] - 0s 9ms/step - loss: 0.6821 - accuracy: 0.5547 - val_loss: 0.7715 - val_accuracy: 0.4375\n",
            "Epoch 15/100\n",
            "4/4 [==============================] - 0s 11ms/step - loss: 0.6852 - accuracy: 0.5156 - val_loss: 0.7577 - val_accuracy: 0.3750\n",
            "Epoch 16/100\n",
            "4/4 [==============================] - 0s 10ms/step - loss: 0.6818 - accuracy: 0.5703 - val_loss: 0.8240 - val_accuracy: 0.3750\n",
            "Epoch 17/100\n",
            "4/4 [==============================] - 0s 11ms/step - loss: 0.6797 - accuracy: 0.5312 - val_loss: 0.8032 - val_accuracy: 0.3750\n",
            "Epoch 18/100\n",
            "4/4 [==============================] - 0s 11ms/step - loss: 0.6748 - accuracy: 0.5391 - val_loss: 0.8296 - val_accuracy: 0.3438\n",
            "Epoch 19/100\n",
            "4/4 [==============================] - 0s 9ms/step - loss: 0.6754 - accuracy: 0.5547 - val_loss: 0.8516 - val_accuracy: 0.3438\n",
            "Epoch 20/100\n",
            "4/4 [==============================] - 0s 10ms/step - loss: 0.6743 - accuracy: 0.6172 - val_loss: 0.9506 - val_accuracy: 0.3438\n",
            "Epoch 21/100\n",
            "4/4 [==============================] - 0s 9ms/step - loss: 0.6702 - accuracy: 0.5625 - val_loss: 0.8827 - val_accuracy: 0.3438\n",
            "Epoch 22/100\n",
            "4/4 [==============================] - 0s 10ms/step - loss: 0.6670 - accuracy: 0.5703 - val_loss: 0.8633 - val_accuracy: 0.3125\n",
            "Epoch 23/100\n",
            "4/4 [==============================] - 0s 10ms/step - loss: 0.6656 - accuracy: 0.5938 - val_loss: 0.9116 - val_accuracy: 0.2812\n",
            "Epoch 24/100\n",
            "4/4 [==============================] - 0s 10ms/step - loss: 0.6753 - accuracy: 0.5703 - val_loss: 0.9846 - val_accuracy: 0.3125\n",
            "Epoch 25/100\n",
            "4/4 [==============================] - 0s 12ms/step - loss: 0.6641 - accuracy: 0.6016 - val_loss: 0.8166 - val_accuracy: 0.3750\n",
            "Epoch 26/100\n",
            "4/4 [==============================] - 0s 10ms/step - loss: 0.6709 - accuracy: 0.5859 - val_loss: 0.8265 - val_accuracy: 0.3750\n",
            "Epoch 27/100\n",
            "4/4 [==============================] - 0s 11ms/step - loss: 0.6681 - accuracy: 0.5781 - val_loss: 0.9478 - val_accuracy: 0.3125\n",
            "Epoch 28/100\n",
            "4/4 [==============================] - 0s 10ms/step - loss: 0.6636 - accuracy: 0.5625 - val_loss: 0.9221 - val_accuracy: 0.2812\n",
            "Epoch 29/100\n",
            "4/4 [==============================] - 0s 11ms/step - loss: 0.6670 - accuracy: 0.5859 - val_loss: 0.8472 - val_accuracy: 0.3438\n",
            "Epoch 30/100\n",
            "4/4 [==============================] - 0s 12ms/step - loss: 0.6614 - accuracy: 0.6016 - val_loss: 0.8672 - val_accuracy: 0.3438\n",
            "Epoch 31/100\n",
            "4/4 [==============================] - 0s 9ms/step - loss: 0.6591 - accuracy: 0.6094 - val_loss: 0.9463 - val_accuracy: 0.2812\n",
            "Epoch 32/100\n",
            "4/4 [==============================] - 0s 10ms/step - loss: 0.6611 - accuracy: 0.5938 - val_loss: 0.9418 - val_accuracy: 0.3125\n",
            "Epoch 33/100\n",
            "4/4 [==============================] - 0s 11ms/step - loss: 0.6597 - accuracy: 0.5859 - val_loss: 0.8885 - val_accuracy: 0.3125\n",
            "Epoch 34/100\n",
            "4/4 [==============================] - 0s 13ms/step - loss: 0.6612 - accuracy: 0.5938 - val_loss: 0.9370 - val_accuracy: 0.3750\n",
            "Epoch 35/100\n",
            "4/4 [==============================] - 0s 10ms/step - loss: 0.6574 - accuracy: 0.5938 - val_loss: 0.9334 - val_accuracy: 0.3125\n",
            "Epoch 36/100\n",
            "4/4 [==============================] - 0s 11ms/step - loss: 0.6579 - accuracy: 0.6016 - val_loss: 1.0171 - val_accuracy: 0.3125\n",
            "Epoch 37/100\n",
            "4/4 [==============================] - 0s 11ms/step - loss: 0.6606 - accuracy: 0.5859 - val_loss: 0.9070 - val_accuracy: 0.3125\n",
            "Epoch 38/100\n",
            "4/4 [==============================] - 0s 10ms/step - loss: 0.6592 - accuracy: 0.6016 - val_loss: 0.8587 - val_accuracy: 0.3750\n",
            "Epoch 39/100\n",
            "4/4 [==============================] - 0s 10ms/step - loss: 0.6571 - accuracy: 0.6016 - val_loss: 0.9197 - val_accuracy: 0.3750\n",
            "Epoch 40/100\n",
            "4/4 [==============================] - 0s 9ms/step - loss: 0.6635 - accuracy: 0.6016 - val_loss: 1.0030 - val_accuracy: 0.3750\n",
            "Epoch 41/100\n",
            "4/4 [==============================] - 0s 11ms/step - loss: 0.6631 - accuracy: 0.5938 - val_loss: 0.9291 - val_accuracy: 0.2812\n",
            "Epoch 42/100\n",
            "4/4 [==============================] - 0s 10ms/step - loss: 0.6558 - accuracy: 0.5781 - val_loss: 0.8750 - val_accuracy: 0.2812\n",
            "Epoch 43/100\n",
            "4/4 [==============================] - 0s 9ms/step - loss: 0.6605 - accuracy: 0.5781 - val_loss: 0.8491 - val_accuracy: 0.3125\n",
            "Epoch 44/100\n",
            "4/4 [==============================] - 0s 10ms/step - loss: 0.6598 - accuracy: 0.6094 - val_loss: 0.8751 - val_accuracy: 0.3438\n",
            "Epoch 45/100\n",
            "4/4 [==============================] - 0s 12ms/step - loss: 0.6551 - accuracy: 0.6094 - val_loss: 0.8879 - val_accuracy: 0.3125\n",
            "Epoch 46/100\n",
            "4/4 [==============================] - 0s 9ms/step - loss: 0.6508 - accuracy: 0.6094 - val_loss: 0.8899 - val_accuracy: 0.3125\n",
            "Epoch 47/100\n",
            "4/4 [==============================] - 0s 10ms/step - loss: 0.6518 - accuracy: 0.6016 - val_loss: 0.9538 - val_accuracy: 0.2812\n",
            "Epoch 48/100\n",
            "4/4 [==============================] - 0s 10ms/step - loss: 0.6544 - accuracy: 0.6406 - val_loss: 0.9453 - val_accuracy: 0.3125\n",
            "\n",
            "Reached 64% accuracy so cancelling training!\n"
          ],
          "name": "stdout"
        }
      ]
    },
    {
      "cell_type": "code",
      "metadata": {
        "colab": {
          "base_uri": "https://localhost:8080/",
          "height": 590
        },
        "id": "djJpPVTINc6j",
        "outputId": "373e399b-597c-42a4-ff7c-73712a15ed0a"
      },
      "source": [
        "print(history.history.keys())\n",
        "\n",
        "# summarize history for accuracy\n",
        "plt.plot(history.history['accuracy'])\n",
        "plt.plot(history.history['val_accuracy'])\n",
        "plt.title('model accuracy')\n",
        "plt.ylabel('accuracy')\n",
        "plt.xlabel('epoch')\n",
        "plt.legend(['train', 'test'], loc='upper left')\n",
        "plt.show()\n",
        "\n",
        "# summarize history for loss\n",
        "plt.plot(history.history['loss'])\n",
        "plt.plot(history.history['val_loss'])\n",
        "plt.title('model loss')\n",
        "plt.ylabel('loss')\n",
        "plt.xlabel('epoch')\n",
        "plt.legend(['train', 'test'], loc='upper left')\n",
        "plt.show()"
      ],
      "execution_count": null,
      "outputs": [
        {
          "output_type": "stream",
          "text": [
            "dict_keys(['loss', 'accuracy', 'val_loss', 'val_accuracy'])\n"
          ],
          "name": "stdout"
        },
        {
          "output_type": "display_data",
          "data": {
            "image/png": "[encoded data removed]",
            "text/plain": [
              "<Figure size 432x288 with 1 Axes>"
            ]
          },
          "metadata": {
            "tags": [],
            "needs_background": "light"
          }
        },
        {
          "output_type": "display_data",
          "data": {
            "image/png": "[encoded data removed]",
            "text/plain": [
              "<Figure size 432x288 with 1 Axes>"
            ]
          },
          "metadata": {
            "tags": [],
            "needs_background": "light"
          }
        }
      ]
    },
    {
      "cell_type": "markdown",
      "metadata": {
        "id": "1Rcz8qlPQw-_"
      },
      "source": [
        "SAVE MODEL"
      ]
    },
    {
      "cell_type": "code",
      "metadata": {
        "colab": {
          "base_uri": "https://localhost:8080/"
        },
        "id": "a7X0ZSTnQq45",
        "outputId": "7b1e2909-3ea2-49bf-a7de-3effad9a28e9"
      },
      "source": [
        "export_dir = '/content'\n",
        "tf.saved_model.save(model_stat, export_dir)"
      ],
      "execution_count": null,
      "outputs": [
        {
          "output_type": "stream",
          "text": [
            "WARNING:tensorflow:FOR KERAS USERS: The object that you are saving contains one or more Keras models or layers. If you are loading the SavedModel with `tf.keras.models.load_model`, continue reading (otherwise, you may ignore the following instructions). Please change your code to save with `tf.keras.models.save_model` or `model.save`, and confirm that the file \"keras.metadata\" exists in the export directory. In the future, Keras will only load the SavedModels that have this file. In other words, `tf.saved_model.save` will no longer write SavedModels that can be recovered as Keras models (this will apply in TF 2.5).\n",
            "\n",
            "FOR DEVS: If you are overwriting _tracking_metadata in your class, this property has been used to save metadata in the SavedModel. The metadta field will be deprecated soon, so please move the metadata to a different file.\n",
            "INFO:tensorflow:Assets written to: /content/assets\n"
          ],
          "name": "stdout"
        }
      ]
    },
    {
      "cell_type": "code",
      "metadata": {
        "id": "rxOpEa9WSzGz"
      },
      "source": [
        "# Select mode of optimization\n",
        "mode = \"Speed\" \n",
        "\n",
        "if mode == 'Storage':\n",
        "    optimization = tf.lite.Optimize.OPTIMIZE_FOR_SIZE\n",
        "elif mode == 'Speed':\n",
        "    optimization = tf.lite.Optimize.OPTIMIZE_FOR_LATENCY\n",
        "else:\n",
        "    optimization = tf.lite.Optimize.DEFAULT"
      ],
      "execution_count": null,
      "outputs": []
    },
    {
      "cell_type": "code",
      "metadata": {
        "id": "uSZy3KjpS4JD"
      },
      "source": [
        "# EXERCISE: Use the TFLiteConverter SavedModel API to initialize the converter\n",
        "\n",
        "converter = tf.lite.TFLiteConverter.from_saved_model(export_dir)\n",
        "\n",
        "# Set the optimzations\n",
        "converter.optimizations = [optimization]\n",
        "\n",
        "# Invoke the converter to finally generate the TFLite model\n",
        "tflite_model = converter.convert()"
      ],
      "execution_count": null,
      "outputs": []
    },
    {
      "cell_type": "code",
      "metadata": {
        "colab": {
          "base_uri": "https://localhost:8080/"
        },
        "id": "Ibsj_N8ETDtq",
        "outputId": "6d37ce4f-148c-4691-9393-530bbae0946f"
      },
      "source": [
        "tflite_model_file = pathlib.Path('./model.tflite')\n",
        "tflite_model_file.write_bytes(tflite_model)"
      ],
      "execution_count": null,
      "outputs": [
        {
          "output_type": "execute_result",
          "data": {
            "text/plain": [
              "59344"
            ]
          },
          "metadata": {
            "tags": []
          },
          "execution_count": 144
        }
      ]
    },
    {
      "cell_type": "markdown",
      "metadata": {
        "id": "ecHW8gU1FmbW"
      },
      "source": [
        "COBA-COBA"
      ]
    },
    {
      "cell_type": "code",
      "metadata": {
        "id": "LtnfKozPmyFg"
      },
      "source": [
        "df = pd.read_csv('/content/Cough-Heavy_csvfile/data_raw_wav_1662.csv')\n",
        "print(df)\n",
        "print(df.shape)\n",
        "print(df.shape[0] == 0)\n",
        "last_element = df['Waktu'].iloc[-1]\n",
        "print(last_element)"
      ],
      "execution_count": null,
      "outputs": []
    },
    {
      "cell_type": "code",
      "metadata": {
        "colab": {
          "base_uri": "https://localhost:8080/"
        },
        "id": "AtgeTzT9T6un",
        "outputId": "f15b7cfc-bccb-405a-eb68-31df080ee05d"
      },
      "source": [
        "df = pd.read_csv('{}/{}'.format(path, 'data_raw_wav_1662.csv'))\n",
        "before_last_element = df['Waktu'].iloc[-2]\n",
        "last_element = df['Waktu'].iloc[-1]\n",
        "beda_optimal = 18 - last_element\n",
        "beda_iterasi = last_element - before_last_element\n",
        "\n",
        "print(beda_optimal, beda_iterasi, last_element, before_last_element)"
      ],
      "execution_count": null,
      "outputs": [
        {
          "output_type": "stream",
          "text": [
            "6.8213541666666675 2.083333333224857e-05 11.178645833333333 11.178625\n"
          ],
          "name": "stdout"
        }
      ]
    },
    {
      "cell_type": "markdown",
      "metadata": {
        "id": "mGfZw3lrItmQ"
      },
      "source": [
        "MENYAMAKAN PANJANG DATA"
      ]
    },
    {
      "cell_type": "code",
      "metadata": {
        "id": "NSBOmEv1I824"
      },
      "source": [
        "#Mencari panjang data terpanjang dan file kosong\n",
        "max_length = 0\n",
        "file_kosong = []\n",
        "path = '/content/Cough-Heavy_csvfile'\n",
        "for files in os.listdir(path):\n",
        "  df = pd.read_csv('{}/{}'.format(path, files))\n",
        "  if df.empty == True:\n",
        "    file_kosong.append(files)\n",
        "  else:\n",
        "    last_element = df['Waktu'].iloc[-1]\n",
        "    if max_length < last_element:\n",
        "      max_length = last_element\n",
        "      print(files)\n",
        "print(max_length)\n",
        "print(file_kosong) #Abaikan file kosong (776, 1546, 991) saat training, evaluasi, dan validasi"
      ],
      "execution_count": null,
      "outputs": []
    },
    {
      "cell_type": "code",
      "metadata": {
        "id": "P4iwscRDP1IX"
      },
      "source": [
        "#Membuat semua panjang data csv menjadi 18 detik\n",
        "for files in os.listdir(path):\n",
        "  df = pd.read_csv('{}/{}'.format(path, files))\n",
        "  last_element = df['Waktu'].iloc[-1]\n",
        "  if last_element < max_length:\n",
        "    beda = max_length - last_element\n"
      ],
      "execution_count": null,
      "outputs": []
    }
  ]
}